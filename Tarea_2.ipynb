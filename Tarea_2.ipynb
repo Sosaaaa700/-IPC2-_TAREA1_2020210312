{
  "nbformat": 4,
  "nbformat_minor": 0,
  "metadata": {
    "colab": {
      "name": "Tarea 2.ipynb",
      "provenance": [],
      "collapsed_sections": [],
      "authorship_tag": "ABX9TyM53/oEiQYAQ2nRX6j6x6sk",
      "include_colab_link": true
    },
    "kernelspec": {
      "name": "python3",
      "display_name": "Python 3"
    },
    "language_info": {
      "name": "python"
    }
  },
  "cells": [
    {
      "cell_type": "markdown",
      "metadata": {
        "id": "view-in-github",
        "colab_type": "text"
      },
      "source": [
        "<a href=\"https://colab.research.google.com/github/Sosaaaa700/Tareas_ipc2/blob/master/Tarea_2.ipynb\" target=\"_parent\"><img src=\"https://colab.research.google.com/assets/colab-badge.svg\" alt=\"Open In Colab\"/></a>"
      ]
    },
    {
      "cell_type": "markdown",
      "metadata": {
        "id": "BUiAzD7z2ZA9"
      },
      "source": [
        ""
      ]
    },
    {
      "cell_type": "code",
      "metadata": {
        "id": "vJSLCCqtzEdX"
      },
      "source": [
        "class estudiante:\n",
        "  def __init__ (self, carne, nombre, edad, direccion, telefono, email, carrera, puesto):\n",
        "    self.carne = carne\n",
        "    self.nombre = nombre\n",
        "    self.edad = edad\n",
        "    self.direccion = direccion\n",
        "    self.telefono = telefono\n",
        "    self.email = email\n",
        "    self.carrera = carrera\n",
        "    self.puesto = puesto"
      ],
      "execution_count": 27,
      "outputs": []
    },
    {
      "cell_type": "markdown",
      "metadata": {
        "id": "CUZyKC6w1Z9z"
      },
      "source": [
        "**Definición de la clase nodo**"
      ]
    },
    {
      "cell_type": "code",
      "metadata": {
        "id": "9Qy2j_8-zLYD"
      },
      "source": [
        "class nodo:\n",
        "  def __init__ (self, estudiante=None, siguiente=None):\n",
        "    self.estudiante = estudiante\n",
        "    self.siguiente = siguiente"
      ],
      "execution_count": 28,
      "outputs": []
    },
    {
      "cell_type": "markdown",
      "metadata": {
        "id": "SHnk_oHV1leK"
      },
      "source": [
        "**Definicion de la clase circular**"
      ]
    },
    {
      "cell_type": "code",
      "metadata": {
        "id": "hQCyTRGz1kNi"
      },
      "source": [
        "class lista_circular:\n",
        "  def __init__ (self):\n",
        "    self.primero = None\n",
        "  \n",
        "  def insertar(self, estudiante):\n",
        "    if self.primero is None:\n",
        "      self.primero = nodo(estudiante=estudiante)\n",
        "      self.primero.siguiente = self.primero\n",
        "    else:\n",
        "      actual = nodo(estudiante=estudiante, siguiente=self.primero.siguiente)\n",
        "      self.primero.siguiente=actual\n",
        "  \n",
        "  def recorrer(self):\n",
        "    if self.primero is None:\n",
        "      return\n",
        "    actual = self.primero\n",
        "    print(\"carne\",actual.estudiante.carne,\"nombre:\",actual.estudiante.nombre,\"email:\",actual.estudiante.email,\"->\")\n",
        "    while actual.siguiente != self.primero:\n",
        "      actual = actual.siguiente\n",
        "      print(\"carne\",actual.estudiante.carne,\"nombre:\",actual.estudiante.nombre,\"email:\",actual.estudiante.email,\"->\")\n",
        "\n",
        "  def eliminar(self,carne):\n",
        "    actual=self.primero\n",
        "    anterior=None\n",
        "    noExiste=False\n",
        "    while actual and actual.estudiante.carne != carne:\n",
        "      anterior=actual\n",
        "      actual=actual.siguiente\n",
        "      if actual==self.primero:\n",
        "        noExiste=True\n",
        "        break\n",
        "    if not noExiste:\n",
        "      if anterior is not None:\n",
        "        anterior.siguiente=actual.siguiente\n",
        "      else:\n",
        "        while actual.siguiente!=self.primero:\n",
        "          actual=actual.siguiente\n",
        "        actual.siguiente=self.primero.siguiente\n",
        "        self.primero=self.primero.siguiente\n",
        "        \n",
        "  def buscar(self, carne):\n",
        "    actual=self.primero\n",
        "    anterior=None\n",
        "    empty=False\n",
        "    while actual and actual.estudiante.carne != carne:\n",
        "      anterior=actual\n",
        "      actual=actual.siguiente\n",
        "      if actual==self.primero:\n",
        "        empty=True\n",
        "        break\n",
        "    if not empty:\n",
        "      while actual !=None:\n",
        "        if actual.estudiante.carne == carne:\n",
        "            print(\"carne: \", actual.estudiante.carne, \"nombre: \", actual.estudiante.nombre, \"email: \", actual.estudiante.email, \"->\" )\n",
        "            break \n",
        "        else:\n",
        "            actual = actual.siguiente\n",
        "    else:\n",
        "      print(\"El dato buscado no existe\")"
      ],
      "execution_count": 29,
      "outputs": []
    },
    {
      "cell_type": "code",
      "metadata": {
        "id": "ZDW5XrtcVdY9"
      },
      "source": [
        "e1=estudiante(201904053,\"Gerson Ortiz\",20,\"9 calle 10-02 zona 1\",2444401,\"gerson.ortiz@gmail.com\",\"Ingenieria en sistemas\",\"Programador Jr\")\n",
        "e2=estudiante(201904820,\"Karen Hurtarte\",21,\"7 calle 10-01 zona 7\",1452369,\"karen.hurtarte@gmail.com\",\"Ingenieria en sistemas\",\"Programador Jr\")\n",
        "e3=estudiante(202110312,\"Luis  Mendez\",22,\"14 calle 18-1 zona 5\",14526320,\"luis.mendez@gmail.com\",\"Ingenieria en sistemas\",\"Programador Jr\")"
      ],
      "execution_count": 30,
      "outputs": []
    },
    {
      "cell_type": "code",
      "metadata": {
        "id": "ESzcw6GfVffU"
      },
      "source": [
        "lista_c=lista_circular()\n",
        "lista_c.insertar(e1)\n",
        "lista_c.insertar(e2)\n",
        "lista_c.insertar(e3)"
      ],
      "execution_count": 31,
      "outputs": []
    },
    {
      "cell_type": "code",
      "metadata": {
        "colab": {
          "base_uri": "https://localhost:8080/"
        },
        "id": "ZeLV2hMQVhhN",
        "outputId": "e9a53ca9-2f13-4af9-d81e-32dce08f0239"
      },
      "source": [
        "lista_c.recorrer()"
      ],
      "execution_count": 32,
      "outputs": [
        {
          "output_type": "stream",
          "text": [
            "carne 201904053 nombre: Gerson Ortiz email: gerson.ortiz@gmail.com ->\n",
            "carne 202110312 nombre: Luis  Mendez email: luis.mendez@gmail.com ->\n",
            "carne 201904820 nombre: Karen Hurtarte email: karen.hurtarte@gmail.com ->\n"
          ],
          "name": "stdout"
        }
      ]
    },
    {
      "cell_type": "code",
      "metadata": {
        "id": "pX26evJbVqcN"
      },
      "source": [
        "lista_c.eliminar(201904053)"
      ],
      "execution_count": 33,
      "outputs": []
    },
    {
      "cell_type": "code",
      "metadata": {
        "colab": {
          "base_uri": "https://localhost:8080/"
        },
        "id": "AqnuO7UaVuMM",
        "outputId": "327830eb-c2d8-46cb-9572-6f10b71a4e5a"
      },
      "source": [
        "lista_c.buscar(201904820)"
      ],
      "execution_count": 34,
      "outputs": [
        {
          "output_type": "stream",
          "text": [
            "carne:  201904820 nombre:  Karen Hurtarte email:  karen.hurtarte@gmail.com ->\n"
          ],
          "name": "stdout"
        }
      ]
    }
  ]
}