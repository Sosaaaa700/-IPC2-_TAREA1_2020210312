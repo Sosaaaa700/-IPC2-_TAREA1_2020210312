{
  "nbformat": 4,
  "nbformat_minor": 0,
  "metadata": {
    "colab": {
      "name": "Tarea1.ipynb",
      "provenance": [],
      "collapsed_sections": [],
      "authorship_tag": "ABX9TyMwci0WvxxE5FaBcKpcO04f",
      "include_colab_link": true
    },
    "kernelspec": {
      "name": "python3",
      "display_name": "Python 3"
    },
    "language_info": {
      "name": "python"
    }
  },
  "cells": [
    {
      "cell_type": "markdown",
      "metadata": {
        "id": "view-in-github",
        "colab_type": "text"
      },
      "source": [
        "<a href=\"https://colab.research.google.com/github/Sosaaaa700/Tareas_ipc2/blob/master/Tarea1.ipynb\" target=\"_parent\"><img src=\"https://colab.research.google.com/assets/colab-badge.svg\" alt=\"Open In Colab\"/></a>"
      ]
    },
    {
      "cell_type": "code",
      "metadata": {
        "id": "LOWKwjSEuOoE"
      },
      "source": [
        "## *Lista enlazada*\n",
        "#Definición de la clase"
      ],
      "execution_count": null,
      "outputs": []
    },
    {
      "cell_type": "code",
      "metadata": {
        "id": "6mNESAIE2Enp"
      },
      "source": [
        "class estudiante:\n",
        "  def __init__ (self, carne, nombre, edad, direccion, telefono, email, carrera, puesto):\n",
        "    self.carne = carne\n",
        "    self.nombre = nombre\n",
        "    self.edad = edad\n",
        "    self.direccion = direccion\n",
        "    self.telefono = telefono\n",
        "    self.email = email\n",
        "    self.carrera = carrera\n",
        "    self.puesto = puesto"
      ],
      "execution_count": null,
      "outputs": []
    },
    {
      "cell_type": "code",
      "metadata": {
        "id": "52KhyeE92HgX"
      },
      "source": [
        "class nodo:\n",
        "  def __init__ (self, estudiante=None, siguiente=None):\n",
        "    self.estudiante = estudiante\n",
        "    self.siguiente = siguiente"
      ],
      "execution_count": null,
      "outputs": []
    },
    {
      "cell_type": "code",
      "metadata": {
        "id": "-u1JsvMO3HjC"
      },
      "source": [
        "class lista_enlazada:\n",
        "  def __init__(self):\n",
        "    self.primero=None\n",
        "  \n",
        "  def insertar(self,estudiante):\n",
        "    if self.primero is None:\n",
        "      self.primero = nodo(estudiante=estudiante)\n",
        "      return\n",
        "    actual = self.primero\n",
        "    while actual.siguiente:\n",
        "      actual = actual.siguiente\n",
        "    actual.siguiente = nodo(estudiante=estudiante)\n",
        "  \n",
        "  def recorrer(self):\n",
        "    actual= self.primero\n",
        "    while actual != None:\n",
        "      print(\"carne\",actual.estudiante.carne,\"nombre:\",actual.estudiante.nombre,\"email:\",actual.estudiante.email,\"->\")\n",
        "      actual=actual.siguiente\n",
        "      \n",
        "  def eliminar(self, carne):\n",
        "    actual = self.primero\n",
        "    anterior = None\n",
        "\n",
        "    while actual and actual.estudiante.carne != carne:\n",
        "      anterior = actual\n",
        "      actual = actual.siguiente\n",
        "\n",
        "    if anterior is None:\n",
        "      self.primero = actual.siguiente\n",
        "      actual.siguiente = None\n",
        "    elif actual:\n",
        "      anterior.siguiente = actual.siguiente\n",
        "      actual.siguiente = None\n",
        "  \n",
        "  def buscar(self, carne):\n",
        "    actual = self.primero\n",
        "\n",
        "    while actual != None:\n",
        "      if actual and actual.estudiante.carne == carne:\n",
        "        print(f\"Carne {actual.estudiante.carne} Nombre: {actual.estudiante.nombre} Correo{actual.estudiante.carne} Professión: {actual.estudiante.carrera}\")\n",
        "      actual = actual.siguiente\n",
        "\n",
        "\n",
        "\n",
        "\n"
      ],
      "execution_count": null,
      "outputs": []
    },
    {
      "cell_type": "markdown",
      "metadata": {
        "id": "zi_kQN5T4i9h"
      },
      "source": [
        "Gerson > Karen > Luis \n",
        "\n",
        "**Crearcion de objetos  estudiantes**\n"
      ]
    },
    {
      "cell_type": "code",
      "metadata": {
        "id": "sZ87PGRisoJ8"
      },
      "source": [
        "e1 = estudiante(202010312,\"Gerson ortiz\",\"20\", \"Guatemala\",20202010312,\"a@gmail.com\",\"Sistemas\",\"Programador Jr\")\n",
        "e2 = estudiante(202110312,\"Karen ortiz\",\"21\", \"Guatemala\",54730080,\"b@gmail.com\",\"Sistemas\",\"Programador Jr\")\n",
        "e3 = estudiante(202210312,\"Luis ortiz\",\"22\", \"Guatemala\",52218573,\"c@gmail.com\",\"Sistemas\",\"Programador Jr\")"
      ],
      "execution_count": null,
      "outputs": []
    },
    {
      "cell_type": "markdown",
      "metadata": {
        "id": "XmInWVoGtb5_"
      },
      "source": [
        "**Inserción**"
      ]
    },
    {
      "cell_type": "code",
      "metadata": {
        "id": "WshTwQ9gtioo"
      },
      "source": [
        "lista_e = lista_enlazada()\n",
        "lista_e.insertar(e1)\n",
        "lista_e.insertar(e2)\n",
        "lista_e.insertar(e3)"
      ],
      "execution_count": null,
      "outputs": []
    },
    {
      "cell_type": "code",
      "metadata": {
        "colab": {
          "base_uri": "https://localhost:8080/"
        },
        "id": "2kHrBx2iuIRN",
        "outputId": "0551d8f1-22c5-4614-e613-76817c542622"
      },
      "source": [
        "lista_e.recorrer()"
      ],
      "execution_count": null,
      "outputs": [
        {
          "output_type": "stream",
          "text": [
            "carne 202010312 nombre: Gerson ortiz email: a@gmail.com ->\n",
            "carne 202110312 nombre: Karen ortiz email: b@gmail.com ->\n",
            "carne 202210312 nombre: Luis ortiz email: c@gmail.com ->\n"
          ],
          "name": "stdout"
        }
      ]
    },
    {
      "cell_type": "markdown",
      "metadata": {
        "id": "zJTgCmakJ2OK"
      },
      "source": [
        "**Eliminar**"
      ]
    },
    {
      "cell_type": "code",
      "metadata": {
        "colab": {
          "base_uri": "https://localhost:8080/"
        },
        "id": "WnNz8Hykwrzc",
        "outputId": "1919e93f-89e7-4da5-caef-9b64ee69b3e2"
      },
      "source": [
        "lista_e.eliminar(202110312)\n",
        "lista_e.recorrer()"
      ],
      "execution_count": null,
      "outputs": [
        {
          "output_type": "stream",
          "text": [
            "carne 202010312 nombre: Gerson ortiz email: a@gmail.com ->\n",
            "carne 202210312 nombre: Luis ortiz email: c@gmail.com ->\n"
          ],
          "name": "stdout"
        }
      ]
    },
    {
      "cell_type": "markdown",
      "metadata": {
        "id": "wSrcSOAVJqys"
      },
      "source": [
        "**Buscar**"
      ]
    },
    {
      "cell_type": "code",
      "metadata": {
        "colab": {
          "base_uri": "https://localhost:8080/"
        },
        "id": "Eaz4DermQLtZ",
        "outputId": "9e6cfb65-f807-4944-d9d1-d04ca1561a29"
      },
      "source": [
        "lista_e.buscar(202210312)"
      ],
      "execution_count": null,
      "outputs": [
        {
          "output_type": "stream",
          "text": [
            "Carne 202210312 Nombre: Luis ortiz Correo202210312 Professión: Sistemas\n"
          ],
          "name": "stdout"
        }
      ]
    }
  ]
}